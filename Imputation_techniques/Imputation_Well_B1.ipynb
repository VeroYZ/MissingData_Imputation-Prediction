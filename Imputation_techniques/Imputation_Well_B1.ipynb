{
 "cells": [
  {
   "cell_type": "code",
   "execution_count": null,
   "id": "f4a2c4d3",
   "metadata": {},
   "outputs": [],
   "source": [
    "import pandas as pd\n",
    "import numpy as np\n",
    "import matplotlib\n",
    "import matplotlib.pyplot as plt\n",
    "%matplotlib inline\n",
    "import seaborn as sns\n",
    "\n",
    "import miceforest as mf\n",
    "\n",
    "from sklearn import metrics\n",
    "from sklearn.metrics import mean_squared_error, r2_score\n",
    "\n",
    "from sklearn.preprocessing import MinMaxScaler\n",
    "\n",
    "import warnings\n",
    "warnings.filterwarnings('ignore')"
   ]
  },
  {
   "cell_type": "markdown",
   "id": "d40b50b0",
   "metadata": {},
   "source": [
    "## Data Preprocessing"
   ]
  },
  {
   "cell_type": "code",
   "execution_count": null,
   "id": "189fb932",
   "metadata": {},
   "outputs": [],
   "source": [
    "B1_Lab_1=pd.read_excel(\"B1_Lab-1.xlsx\")\n",
    "B1_Lab_3=pd.read_excel(\"B1_Lab-3.xlsx\")"
   ]
  },
  {
   "cell_type": "code",
   "execution_count": null,
   "id": "45b82f86",
   "metadata": {},
   "outputs": [],
   "source": [
    "well_B1=B1_Lab_1.merge(B1_Lab_3, how='outer', on='Depth',sort=True,suffixes=('', '_LAB-3')).assign(WELL='Well_B1')\n",
    "depth_B1=well_B1['Depth']"
   ]
  },
  {
   "cell_type": "code",
   "execution_count": null,
   "id": "83b03f40",
   "metadata": {},
   "outputs": [],
   "source": [
    "well_B1.drop(well_B1.head(114).index, inplace=True)\n",
    "well_B1.drop([247], axis=0, inplace=True)\n",
    "well_B1=well_B1.reset_index(drop=True)"
   ]
  },
  {
   "cell_type": "code",
   "execution_count": null,
   "id": "9dcd1551",
   "metadata": {},
   "outputs": [],
   "source": [
    "well_B1=well_B1.drop(['WELL','Zr_LAB-3','Nb_LAB-3','Th_LAB-3','Cr_LAB-3','Ga_LAB-3', 'Cu_LAB-3'], axis=1) "
   ]
  },
  {
   "cell_type": "code",
   "execution_count": null,
   "id": "c09be1d6",
   "metadata": {},
   "outputs": [],
   "source": [
    "well_B1=well_B1.drop(['Depth'], axis=1)"
   ]
  },
  {
   "cell_type": "markdown",
   "id": "373996d8",
   "metadata": {},
   "source": [
    "### NaN figure"
   ]
  },
  {
   "cell_type": "code",
   "execution_count": null,
   "id": "65e212f5",
   "metadata": {},
   "outputs": [],
   "source": [
    "well_B1_NaN=well_B1.copy()\n",
    "well_B1_NaN.index += 1\n",
    "\n",
    "well_B1_NaN.columns=well_B1_NaN.columns.str.replace('_LAB-3','')\n",
    "\n",
    "plt.figure(figsize=(20, 15), dpi = 500)\n",
    "\n",
    "colors = [\"#6E9FD0\", \"black\"]\n",
    "cmap = matplotlib.colors.LinearSegmentedColormap.from_list(\"\", colors)\n",
    "plt.rcParams['font.family'] = 'arial'\n",
    "\n",
    "sns.heatmap(well_B1_NaN.isnull(), cbar=False, cmap=cmap, yticklabels=115)\n",
    "\n",
    "plt.xticks(fontsize=14, rotation=90)\n",
    "plt.yticks(fontsize=14, rotation=0)\n",
    "\n",
    "plt.show() "
   ]
  },
  {
   "cell_type": "markdown",
   "id": "cfa0d106",
   "metadata": {},
   "source": [
    "## miceforest No NaN set"
   ]
  },
  {
   "cell_type": "code",
   "execution_count": null,
   "id": "d0db1c44",
   "metadata": {},
   "outputs": [],
   "source": [
    "No_NaN=well_B1.dropna()\n",
    "No_NaN.reset_index(drop=True, inplace=True)"
   ]
  },
  {
   "cell_type": "code",
   "execution_count": null,
   "id": "429d47de",
   "metadata": {},
   "outputs": [],
   "source": [
    "cust_kernel=mf.ImputationKernel(No_NaN, datasets=10, save_all_iterations=True, random_state=11,\n",
    "                                variable_schema=No_NaN.columns.to_list(), train_nonmissing=True)\n",
    "\n",
    "optimal_parametros, losses = cust_kernel.tune_parameters(dataset=0, optimization_steps=15,  random_state=11)\n",
    "\n",
    "cust_kernel.mice(6,variable_parameters= optimal_parametros)"
   ]
  },
  {
   "cell_type": "code",
   "execution_count": null,
   "id": "53aea13c",
   "metadata": {},
   "outputs": [],
   "source": [
    "new_data_imp=cust_kernel.impute_new_data(well_B1)\n",
    "MF_Imp=new_data_imp.complete_data()\n",
    "MF_Imp.to_excel(\"Well_B1_Imp.xlsx\")"
   ]
  },
  {
   "cell_type": "code",
   "execution_count": null,
   "id": "2683bcd1",
   "metadata": {},
   "outputs": [],
   "source": []
  }
 ],
 "metadata": {
  "kernelspec": {
   "display_name": "Python 3 (ipykernel)",
   "language": "python",
   "name": "python3"
  },
  "language_info": {
   "codemirror_mode": {
    "name": "ipython",
    "version": 3
   },
   "file_extension": ".py",
   "mimetype": "text/x-python",
   "name": "python",
   "nbconvert_exporter": "python",
   "pygments_lexer": "ipython3",
   "version": "3.8.16"
  }
 },
 "nbformat": 4,
 "nbformat_minor": 5
}
